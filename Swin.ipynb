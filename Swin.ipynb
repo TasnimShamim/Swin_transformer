{
 "cells": [
  {
   "cell_type": "code",
   "execution_count": 1,
   "id": "0efd2073",
   "metadata": {},
   "outputs": [
    {
     "name": "stdout",
     "output_type": "stream",
     "text": [
      "Collecting torch (from -r requirements.txt (line 1))\n",
      "  Downloading torch-2.7.1-cp39-cp39-win_amd64.whl.metadata (28 kB)\n",
      "Collecting torchvision (from -r requirements.txt (line 2))\n",
      "  Downloading torchvision-0.22.1-cp39-cp39-win_amd64.whl.metadata (6.1 kB)\n",
      "Requirement already satisfied: numpy in c:\\users\\tasni\\miniconda3\\envs\\tf\\lib\\site-packages (from -r requirements.txt (line 3)) (1.26.4)\n",
      "Collecting tqdm (from -r requirements.txt (line 4))\n",
      "  Downloading tqdm-4.67.1-py3-none-any.whl.metadata (57 kB)\n",
      "Requirement already satisfied: tensorboard in c:\\users\\tasni\\miniconda3\\envs\\tf\\lib\\site-packages (from -r requirements.txt (line 5)) (2.10.1)\n",
      "Collecting tensorboardX (from -r requirements.txt (line 6))\n",
      "  Using cached tensorboardx-2.6.4-py3-none-any.whl.metadata (6.2 kB)\n",
      "Collecting ml-collections (from -r requirements.txt (line 7))\n",
      "  Downloading ml_collections-0.1.1.tar.gz (77 kB)\n",
      "  Preparing metadata (setup.py): started\n",
      "  Preparing metadata (setup.py): finished with status 'done'\n",
      "Collecting medpy (from -r requirements.txt (line 8))\n",
      "  Using cached medpy-0.5.2.tar.gz (156 kB)\n",
      "  Preparing metadata (setup.py): started\n",
      "  Preparing metadata (setup.py): finished with status 'done'\n",
      "Collecting SimpleITK (from -r requirements.txt (line 9))\n",
      "  Downloading simpleitk-2.5.2-cp39-cp39-win_amd64.whl.metadata (7.3 kB)\n",
      "Requirement already satisfied: scipy in c:\\users\\tasni\\miniconda3\\envs\\tf\\lib\\site-packages (from -r requirements.txt (line 10)) (1.13.1)\n",
      "Requirement already satisfied: h5py in c:\\users\\tasni\\miniconda3\\envs\\tf\\lib\\site-packages (from -r requirements.txt (line 11)) (3.13.0)\n",
      "Collecting timm (from -r requirements.txt (line 12))\n",
      "  Using cached timm-1.0.16-py3-none-any.whl.metadata (57 kB)\n",
      "Collecting einops (from -r requirements.txt (line 13))\n",
      "  Using cached einops-0.8.1-py3-none-any.whl.metadata (13 kB)\n",
      "Collecting filelock (from torch->-r requirements.txt (line 1))\n",
      "  Using cached filelock-3.18.0-py3-none-any.whl.metadata (2.9 kB)\n",
      "Requirement already satisfied: typing-extensions>=4.10.0 in c:\\users\\tasni\\miniconda3\\envs\\tf\\lib\\site-packages (from torch->-r requirements.txt (line 1)) (4.13.0)\n",
      "Collecting sympy>=1.13.3 (from torch->-r requirements.txt (line 1))\n",
      "  Using cached sympy-1.14.0-py3-none-any.whl.metadata (12 kB)\n",
      "Requirement already satisfied: networkx in c:\\users\\tasni\\miniconda3\\envs\\tf\\lib\\site-packages (from torch->-r requirements.txt (line 1)) (3.2.1)\n",
      "Collecting jinja2 (from torch->-r requirements.txt (line 1))\n",
      "  Using cached jinja2-3.1.6-py3-none-any.whl.metadata (2.9 kB)\n",
      "Collecting fsspec (from torch->-r requirements.txt (line 1))\n",
      "  Using cached fsspec-2025.5.1-py3-none-any.whl.metadata (11 kB)\n",
      "Requirement already satisfied: pillow!=8.3.*,>=5.3.0 in c:\\users\\tasni\\miniconda3\\envs\\tf\\lib\\site-packages (from torchvision->-r requirements.txt (line 2)) (11.1.0)\n",
      "Requirement already satisfied: colorama in c:\\users\\tasni\\miniconda3\\envs\\tf\\lib\\site-packages (from tqdm->-r requirements.txt (line 4)) (0.4.6)\n",
      "Requirement already satisfied: absl-py>=0.4 in c:\\users\\tasni\\miniconda3\\envs\\tf\\lib\\site-packages (from tensorboard->-r requirements.txt (line 5)) (2.2.1)\n",
      "Requirement already satisfied: grpcio>=1.24.3 in c:\\users\\tasni\\miniconda3\\envs\\tf\\lib\\site-packages (from tensorboard->-r requirements.txt (line 5)) (1.71.0)\n",
      "Requirement already satisfied: google-auth<3,>=1.6.3 in c:\\users\\tasni\\miniconda3\\envs\\tf\\lib\\site-packages (from tensorboard->-r requirements.txt (line 5)) (2.38.0)\n",
      "Requirement already satisfied: google-auth-oauthlib<0.5,>=0.4.1 in c:\\users\\tasni\\miniconda3\\envs\\tf\\lib\\site-packages (from tensorboard->-r requirements.txt (line 5)) (0.4.6)\n",
      "Requirement already satisfied: markdown>=2.6.8 in c:\\users\\tasni\\miniconda3\\envs\\tf\\lib\\site-packages (from tensorboard->-r requirements.txt (line 5)) (3.7)\n",
      "Requirement already satisfied: protobuf<3.20,>=3.9.2 in c:\\users\\tasni\\miniconda3\\envs\\tf\\lib\\site-packages (from tensorboard->-r requirements.txt (line 5)) (3.19.6)\n",
      "Requirement already satisfied: requests<3,>=2.21.0 in c:\\users\\tasni\\miniconda3\\envs\\tf\\lib\\site-packages (from tensorboard->-r requirements.txt (line 5)) (2.32.3)\n",
      "Requirement already satisfied: setuptools>=41.0.0 in c:\\users\\tasni\\miniconda3\\envs\\tf\\lib\\site-packages (from tensorboard->-r requirements.txt (line 5)) (75.8.0)\n",
      "Requirement already satisfied: tensorboard-data-server<0.7.0,>=0.6.0 in c:\\users\\tasni\\miniconda3\\envs\\tf\\lib\\site-packages (from tensorboard->-r requirements.txt (line 5)) (0.6.1)\n",
      "Requirement already satisfied: tensorboard-plugin-wit>=1.6.0 in c:\\users\\tasni\\miniconda3\\envs\\tf\\lib\\site-packages (from tensorboard->-r requirements.txt (line 5)) (1.8.1)\n",
      "Requirement already satisfied: werkzeug>=1.0.1 in c:\\users\\tasni\\miniconda3\\envs\\tf\\lib\\site-packages (from tensorboard->-r requirements.txt (line 5)) (3.1.3)\n",
      "Requirement already satisfied: wheel>=0.26 in c:\\users\\tasni\\miniconda3\\envs\\tf\\lib\\site-packages (from tensorboard->-r requirements.txt (line 5)) (0.45.1)\n",
      "Requirement already satisfied: packaging in c:\\users\\tasni\\miniconda3\\envs\\tf\\lib\\site-packages (from tensorboardX->-r requirements.txt (line 6)) (24.2)\n",
      "INFO: pip is looking at multiple versions of tensorboardx to determine which version is compatible with other requirements. This could take a while.\n",
      "Collecting tensorboardX (from -r requirements.txt (line 6))\n",
      "  Downloading tensorboardX-2.6.2.2-py2.py3-none-any.whl.metadata (5.8 kB)\n",
      "  Downloading tensorboardX-2.6.1-py2.py3-none-any.whl.metadata (5.6 kB)\n",
      "  Downloading tensorboardX-2.6-py2.py3-none-any.whl.metadata (5.4 kB)\n",
      "Requirement already satisfied: PyYAML in c:\\users\\tasni\\miniconda3\\envs\\tf\\lib\\site-packages (from ml-collections->-r requirements.txt (line 7)) (6.0.2)\n",
      "Requirement already satisfied: six in c:\\users\\tasni\\miniconda3\\envs\\tf\\lib\\site-packages (from ml-collections->-r requirements.txt (line 7)) (1.17.0)\n",
      "Collecting contextlib2 (from ml-collections->-r requirements.txt (line 7))\n",
      "  Downloading contextlib2-21.6.0-py2.py3-none-any.whl.metadata (4.1 kB)\n",
      "Collecting huggingface_hub (from timm->-r requirements.txt (line 12))\n",
      "  Using cached huggingface_hub-0.33.2-py3-none-any.whl.metadata (14 kB)\n",
      "Collecting safetensors (from timm->-r requirements.txt (line 12))\n",
      "  Using cached safetensors-0.5.3-cp38-abi3-win_amd64.whl.metadata (3.9 kB)\n",
      "Requirement already satisfied: cachetools<6.0,>=2.0.0 in c:\\users\\tasni\\miniconda3\\envs\\tf\\lib\\site-packages (from google-auth<3,>=1.6.3->tensorboard->-r requirements.txt (line 5)) (5.5.2)\n",
      "Requirement already satisfied: pyasn1-modules>=0.2.1 in c:\\users\\tasni\\miniconda3\\envs\\tf\\lib\\site-packages (from google-auth<3,>=1.6.3->tensorboard->-r requirements.txt (line 5)) (0.4.1)\n",
      "Requirement already satisfied: rsa<5,>=3.1.4 in c:\\users\\tasni\\miniconda3\\envs\\tf\\lib\\site-packages (from google-auth<3,>=1.6.3->tensorboard->-r requirements.txt (line 5)) (4.9)\n",
      "Requirement already satisfied: requests-oauthlib>=0.7.0 in c:\\users\\tasni\\miniconda3\\envs\\tf\\lib\\site-packages (from google-auth-oauthlib<0.5,>=0.4.1->tensorboard->-r requirements.txt (line 5)) (2.0.0)\n",
      "Requirement already satisfied: importlib-metadata>=4.4 in c:\\users\\tasni\\miniconda3\\envs\\tf\\lib\\site-packages (from markdown>=2.6.8->tensorboard->-r requirements.txt (line 5)) (8.6.1)\n",
      "Requirement already satisfied: charset-normalizer<4,>=2 in c:\\users\\tasni\\miniconda3\\envs\\tf\\lib\\site-packages (from requests<3,>=2.21.0->tensorboard->-r requirements.txt (line 5)) (3.4.1)\n",
      "Requirement already satisfied: idna<4,>=2.5 in c:\\users\\tasni\\miniconda3\\envs\\tf\\lib\\site-packages (from requests<3,>=2.21.0->tensorboard->-r requirements.txt (line 5)) (3.10)\n",
      "Requirement already satisfied: urllib3<3,>=1.21.1 in c:\\users\\tasni\\miniconda3\\envs\\tf\\lib\\site-packages (from requests<3,>=2.21.0->tensorboard->-r requirements.txt (line 5)) (2.3.0)\n",
      "Requirement already satisfied: certifi>=2017.4.17 in c:\\users\\tasni\\miniconda3\\envs\\tf\\lib\\site-packages (from requests<3,>=2.21.0->tensorboard->-r requirements.txt (line 5)) (2025.1.31)\n",
      "Collecting mpmath<1.4,>=1.1.0 (from sympy>=1.13.3->torch->-r requirements.txt (line 1))\n",
      "  Using cached mpmath-1.3.0-py3-none-any.whl.metadata (8.6 kB)\n",
      "Requirement already satisfied: MarkupSafe>=2.1.1 in c:\\users\\tasni\\miniconda3\\envs\\tf\\lib\\site-packages (from werkzeug>=1.0.1->tensorboard->-r requirements.txt (line 5)) (3.0.2)\n",
      "Requirement already satisfied: zipp>=3.20 in c:\\users\\tasni\\miniconda3\\envs\\tf\\lib\\site-packages (from importlib-metadata>=4.4->markdown>=2.6.8->tensorboard->-r requirements.txt (line 5)) (3.21.0)\n",
      "Requirement already satisfied: pyasn1<0.7.0,>=0.4.6 in c:\\users\\tasni\\miniconda3\\envs\\tf\\lib\\site-packages (from pyasn1-modules>=0.2.1->google-auth<3,>=1.6.3->tensorboard->-r requirements.txt (line 5)) (0.6.1)\n",
      "Requirement already satisfied: oauthlib>=3.0.0 in c:\\users\\tasni\\miniconda3\\envs\\tf\\lib\\site-packages (from requests-oauthlib>=0.7.0->google-auth-oauthlib<0.5,>=0.4.1->tensorboard->-r requirements.txt (line 5)) (3.2.2)\n",
      "Downloading torch-2.7.1-cp39-cp39-win_amd64.whl (216.0 MB)\n",
      "   ---------------------------------------- 0.0/216.0 MB ? eta -:--:--\n",
      "   ---------------------------------------- 1.3/216.0 MB 7.4 MB/s eta 0:00:29\n",
      "    --------------------------------------- 3.7/216.0 MB 9.9 MB/s eta 0:00:22\n",
      "   - -------------------------------------- 6.3/216.0 MB 10.4 MB/s eta 0:00:21\n",
      "   - -------------------------------------- 8.9/216.0 MB 10.9 MB/s eta 0:00:20\n",
      "   -- ------------------------------------- 11.3/216.0 MB 11.2 MB/s eta 0:00:19\n",
      "   -- ------------------------------------- 13.9/216.0 MB 11.3 MB/s eta 0:00:18\n",
      "   --- ------------------------------------ 16.5/216.0 MB 11.4 MB/s eta 0:00:18\n",
      "   --- ------------------------------------ 19.1/216.0 MB 11.5 MB/s eta 0:00:18\n",
      "   --- ------------------------------------ 21.5/216.0 MB 11.6 MB/s eta 0:00:17\n",
      "   ---- ----------------------------------- 24.1/216.0 MB 11.6 MB/s eta 0:00:17\n",
      "   ---- ----------------------------------- 26.7/216.0 MB 11.7 MB/s eta 0:00:17\n",
      "   ----- ---------------------------------- 29.4/216.0 MB 11.7 MB/s eta 0:00:16\n",
      "   ----- ---------------------------------- 31.7/216.0 MB 11.7 MB/s eta 0:00:16\n",
      "   ------ --------------------------------- 34.3/216.0 MB 11.7 MB/s eta 0:00:16\n",
      "   ------ --------------------------------- 37.0/216.0 MB 11.7 MB/s eta 0:00:16\n",
      "   ------- -------------------------------- 39.6/216.0 MB 11.7 MB/s eta 0:00:16\n",
      "   ------- -------------------------------- 41.9/216.0 MB 11.8 MB/s eta 0:00:15\n",
      "   -------- ------------------------------- 44.8/216.0 MB 11.8 MB/s eta 0:00:15\n",
      "   -------- ------------------------------- 47.4/216.0 MB 11.8 MB/s eta 0:00:15\n",
      "   --------- ------------------------------ 50.3/216.0 MB 11.9 MB/s eta 0:00:14\n",
      "   --------- ------------------------------ 52.7/216.0 MB 11.9 MB/s eta 0:00:14\n",
      "   ---------- ----------------------------- 55.6/216.0 MB 11.9 MB/s eta 0:00:14\n",
      "   ---------- ----------------------------- 58.2/216.0 MB 12.0 MB/s eta 0:00:14\n",
      "   ----------- ---------------------------- 61.1/216.0 MB 12.0 MB/s eta 0:00:13\n",
      "   ----------- ---------------------------- 63.7/216.0 MB 12.0 MB/s eta 0:00:13\n",
      "   ------------ --------------------------- 66.3/216.0 MB 12.0 MB/s eta 0:00:13\n",
      "   ------------ --------------------------- 68.9/216.0 MB 12.0 MB/s eta 0:00:13\n",
      "   ------------- -------------------------- 71.6/216.0 MB 12.1 MB/s eta 0:00:12\n",
      "   ------------- -------------------------- 74.2/216.0 MB 12.1 MB/s eta 0:00:12\n",
      "   -------------- ------------------------- 76.8/216.0 MB 12.1 MB/s eta 0:00:12\n",
      "   -------------- ------------------------- 79.7/216.0 MB 12.1 MB/s eta 0:00:12\n",
      "   --------------- ------------------------ 82.6/216.0 MB 12.1 MB/s eta 0:00:11\n",
      "   --------------- ------------------------ 85.2/216.0 MB 12.1 MB/s eta 0:00:11\n",
      "   ---------------- ----------------------- 87.8/216.0 MB 12.2 MB/s eta 0:00:11\n",
      "   ---------------- ----------------------- 90.2/216.0 MB 12.1 MB/s eta 0:00:11\n",
      "   ----------------- ---------------------- 93.1/216.0 MB 12.1 MB/s eta 0:00:11\n",
      "   ----------------- ---------------------- 95.4/216.0 MB 12.1 MB/s eta 0:00:10\n",
      "   ------------------ --------------------- 98.0/216.0 MB 12.1 MB/s eta 0:00:10\n",
      "   ------------------ -------------------- 100.1/216.0 MB 12.1 MB/s eta 0:00:10\n",
      "   ------------------ -------------------- 102.5/216.0 MB 12.0 MB/s eta 0:00:10\n",
      "   ------------------ -------------------- 104.9/216.0 MB 12.0 MB/s eta 0:00:10\n",
      "   ------------------- ------------------- 107.5/216.0 MB 12.0 MB/s eta 0:00:10\n",
      "   ------------------- ------------------- 110.4/216.0 MB 12.0 MB/s eta 0:00:09\n",
      "   -------------------- ------------------ 112.7/216.0 MB 12.0 MB/s eta 0:00:09\n",
      "   -------------------- ------------------ 115.1/216.0 MB 12.0 MB/s eta 0:00:09\n",
      "   --------------------- ----------------- 118.0/216.0 MB 12.0 MB/s eta 0:00:09\n",
      "   --------------------- ----------------- 120.1/216.0 MB 12.0 MB/s eta 0:00:08\n",
      "   ---------------------- ---------------- 122.7/216.0 MB 12.0 MB/s eta 0:00:08\n",
      "   ---------------------- ---------------- 125.0/216.0 MB 12.0 MB/s eta 0:00:08\n",
      "   ---------------------- ---------------- 127.1/216.0 MB 11.9 MB/s eta 0:00:08\n",
      "   ----------------------- --------------- 129.8/216.0 MB 11.9 MB/s eta 0:00:08\n",
      "   ----------------------- --------------- 131.9/216.0 MB 11.9 MB/s eta 0:00:08\n",
      "   ------------------------ -------------- 134.2/216.0 MB 11.9 MB/s eta 0:00:07\n",
      "   ------------------------ -------------- 136.8/216.0 MB 11.9 MB/s eta 0:00:07\n",
      "   ------------------------- ------------- 138.9/216.0 MB 11.8 MB/s eta 0:00:07\n",
      "   ------------------------- ------------- 141.3/216.0 MB 11.8 MB/s eta 0:00:07\n",
      "   ------------------------- ------------- 143.7/216.0 MB 11.8 MB/s eta 0:00:07\n",
      "   -------------------------- ------------ 146.0/216.0 MB 11.8 MB/s eta 0:00:06\n",
      "   -------------------------- ------------ 148.4/216.0 MB 11.8 MB/s eta 0:00:06\n",
      "   --------------------------- ----------- 151.0/216.0 MB 11.8 MB/s eta 0:00:06\n",
      "   --------------------------- ----------- 153.6/216.0 MB 11.8 MB/s eta 0:00:06\n",
      "   ---------------------------- ---------- 156.2/216.0 MB 11.8 MB/s eta 0:00:06\n",
      "   ---------------------------- ---------- 158.9/216.0 MB 11.8 MB/s eta 0:00:05\n",
      "   ----------------------------- --------- 161.5/216.0 MB 11.8 MB/s eta 0:00:05\n",
      "   ----------------------------- --------- 163.8/216.0 MB 11.8 MB/s eta 0:00:05\n",
      "   ------------------------------ -------- 166.5/216.0 MB 11.8 MB/s eta 0:00:05\n",
      "   ------------------------------ -------- 169.1/216.0 MB 11.8 MB/s eta 0:00:04\n",
      "   ------------------------------- ------- 171.7/216.0 MB 11.8 MB/s eta 0:00:04\n",
      "   ------------------------------- ------- 174.3/216.0 MB 11.8 MB/s eta 0:00:04\n",
      "   ------------------------------- ------- 176.7/216.0 MB 11.8 MB/s eta 0:00:04\n",
      "   -------------------------------- ------ 179.0/216.0 MB 11.8 MB/s eta 0:00:04\n",
      "   -------------------------------- ------ 181.7/216.0 MB 11.8 MB/s eta 0:00:03\n",
      "   --------------------------------- ----- 184.3/216.0 MB 11.8 MB/s eta 0:00:03\n",
      "   --------------------------------- ----- 186.6/216.0 MB 11.8 MB/s eta 0:00:03\n",
      "   ---------------------------------- ---- 189.3/216.0 MB 11.8 MB/s eta 0:00:03\n",
      "   ---------------------------------- ---- 191.9/216.0 MB 11.8 MB/s eta 0:00:03\n",
      "   ----------------------------------- --- 194.5/216.0 MB 11.8 MB/s eta 0:00:02\n",
      "   ----------------------------------- --- 197.1/216.0 MB 11.9 MB/s eta 0:00:02\n",
      "   ------------------------------------ -- 199.8/216.0 MB 11.9 MB/s eta 0:00:02\n",
      "   ------------------------------------ -- 202.4/216.0 MB 11.9 MB/s eta 0:00:02\n",
      "   ------------------------------------- - 205.0/216.0 MB 11.9 MB/s eta 0:00:01\n",
      "   ------------------------------------- - 206.8/216.0 MB 11.8 MB/s eta 0:00:01\n",
      "   ------------------------------------- - 209.7/216.0 MB 11.8 MB/s eta 0:00:01\n",
      "   --------------------------------------  212.1/216.0 MB 11.8 MB/s eta 0:00:01\n",
      "   --------------------------------------  214.7/216.0 MB 11.8 MB/s eta 0:00:01\n",
      "   --------------------------------------  215.7/216.0 MB 11.8 MB/s eta 0:00:01\n",
      "   --------------------------------------  215.7/216.0 MB 11.8 MB/s eta 0:00:01\n",
      "   --------------------------------------  215.7/216.0 MB 11.8 MB/s eta 0:00:01\n",
      "   --------------------------------------  215.7/216.0 MB 11.8 MB/s eta 0:00:01\n",
      "   --------------------------------------- 216.0/216.0 MB 11.3 MB/s eta 0:00:00\n",
      "Downloading torchvision-0.22.1-cp39-cp39-win_amd64.whl (1.7 MB)\n",
      "   ---------------------------------------- 0.0/1.7 MB ? eta -:--:--\n",
      "   ------------------------------ --------- 1.3/1.7 MB 5.6 MB/s eta 0:00:01\n",
      "   ---------------------------------------- 1.7/1.7 MB 6.2 MB/s eta 0:00:00\n",
      "Downloading tqdm-4.67.1-py3-none-any.whl (78 kB)\n",
      "Downloading tensorboardX-2.6-py2.py3-none-any.whl (114 kB)\n",
      "Downloading simpleitk-2.5.2-cp39-cp39-win_amd64.whl (18.8 MB)\n",
      "   ---------------------------------------- 0.0/18.8 MB ? eta -:--:--\n",
      "   -- ------------------------------------- 1.0/18.8 MB 12.5 MB/s eta 0:00:02\n",
      "   ---- ----------------------------------- 2.1/18.8 MB 5.9 MB/s eta 0:00:03\n",
      "   ------ --------------------------------- 3.1/18.8 MB 5.0 MB/s eta 0:00:04\n",
      "   -------- ------------------------------- 4.2/18.8 MB 4.9 MB/s eta 0:00:03\n",
      "   ---------- ----------------------------- 5.0/18.8 MB 4.6 MB/s eta 0:00:04\n",
      "   ----------- ---------------------------- 5.2/18.8 MB 4.8 MB/s eta 0:00:03\n",
      "   ------------- -------------------------- 6.6/18.8 MB 4.3 MB/s eta 0:00:03\n",
      "   --------------- ------------------------ 7.3/18.8 MB 4.6 MB/s eta 0:00:03\n",
      "   --------------- ------------------------ 7.3/18.8 MB 4.6 MB/s eta 0:00:03\n",
      "   ----------------- ---------------------- 8.4/18.8 MB 3.9 MB/s eta 0:00:03\n",
      "   ------------------- -------------------- 9.2/18.8 MB 3.8 MB/s eta 0:00:03\n",
      "   --------------------- ------------------ 10.0/18.8 MB 3.8 MB/s eta 0:00:03\n",
      "   ----------------------- ---------------- 11.0/18.8 MB 3.9 MB/s eta 0:00:02\n",
      "   ------------------------ --------------- 11.5/18.8 MB 4.0 MB/s eta 0:00:02\n",
      "   ------------------------ --------------- 11.5/18.8 MB 4.0 MB/s eta 0:00:02\n",
      "   -------------------------- ------------- 12.3/18.8 MB 3.5 MB/s eta 0:00:02\n",
      "   --------------------------- ------------ 13.1/18.8 MB 3.5 MB/s eta 0:00:02\n",
      "   ----------------------------- ---------- 13.6/18.8 MB 3.6 MB/s eta 0:00:02\n",
      "   ------------------------------- -------- 14.7/18.8 MB 3.7 MB/s eta 0:00:02\n",
      "   --------------------------------- ------ 15.7/18.8 MB 3.7 MB/s eta 0:00:01\n",
      "   ----------------------------------- ---- 16.8/18.8 MB 3.7 MB/s eta 0:00:01\n",
      "   ------------------------------------ --- 17.3/18.8 MB 3.6 MB/s eta 0:00:01\n",
      "   ------------------------------------- -- 17.8/18.8 MB 3.7 MB/s eta 0:00:01\n",
      "   ---------------------------------------- 18.8/18.8 MB 3.7 MB/s eta 0:00:00\n",
      "Using cached timm-1.0.16-py3-none-any.whl (2.5 MB)\n",
      "Using cached einops-0.8.1-py3-none-any.whl (64 kB)\n",
      "Using cached sympy-1.14.0-py3-none-any.whl (6.3 MB)\n",
      "Downloading contextlib2-21.6.0-py2.py3-none-any.whl (13 kB)\n",
      "Using cached filelock-3.18.0-py3-none-any.whl (16 kB)\n",
      "Using cached fsspec-2025.5.1-py3-none-any.whl (199 kB)\n",
      "Using cached huggingface_hub-0.33.2-py3-none-any.whl (515 kB)\n",
      "Using cached jinja2-3.1.6-py3-none-any.whl (134 kB)\n",
      "Using cached safetensors-0.5.3-cp38-abi3-win_amd64.whl (308 kB)\n",
      "Using cached mpmath-1.3.0-py3-none-any.whl (536 kB)\n",
      "Building wheels for collected packages: ml-collections, medpy\n",
      "  Building wheel for ml-collections (setup.py): started\n",
      "  Building wheel for ml-collections (setup.py): finished with status 'done'\n",
      "  Created wheel for ml-collections: filename=ml_collections-0.1.1-py3-none-any.whl size=94653 sha256=069286c9f8944ac922859236b2915b61bfde3c7055a1b578a55140a5e9138ec2\n",
      "  Stored in directory: c:\\users\\tasni\\appdata\\local\\pip\\cache\\wheels\\fd\\c2\\0d\\5d94d95e5875ea17b85a9f1f99b8dd2e50517137c8042c6468\n",
      "  Building wheel for medpy (setup.py): started\n",
      "  Building wheel for medpy (setup.py): finished with status 'done'\n",
      "  Created wheel for medpy: filename=MedPy-0.5.2-py3-none-any.whl size=225814 sha256=bab63204c823c7b932a1e1254515a98473a631d5d0d41bcb8dad76ce59252e48\n",
      "  Stored in directory: c:\\users\\tasni\\appdata\\local\\pip\\cache\\wheels\\78\\8a\\44\\97ecd3f1e3bc6562c95e0d257d4431cfdaa87c188241518981\n",
      "Successfully built ml-collections medpy\n",
      "Installing collected packages: SimpleITK, mpmath, tqdm, tensorboardX, sympy, safetensors, jinja2, fsspec, filelock, einops, contextlib2, torch, ml-collections, medpy, huggingface_hub, torchvision, timm\n",
      "Successfully installed SimpleITK-2.5.2 contextlib2-21.6.0 einops-0.8.1 filelock-3.18.0 fsspec-2025.5.1 huggingface_hub-0.33.2 jinja2-3.1.6 medpy-0.5.2 ml-collections-0.1.1 mpmath-1.3.0 safetensors-0.5.3 sympy-1.14.0 tensorboardX-2.6 timm-1.0.16 torch-2.7.1 torchvision-0.22.1 tqdm-4.67.1\n",
      "Note: you may need to restart the kernel to use updated packages.\n"
     ]
    },
    {
     "name": "stderr",
     "output_type": "stream",
     "text": [
      "\n",
      "[notice] A new release of pip is available: 25.0.1 -> 25.1.1\n",
      "[notice] To update, run: python.exe -m pip install --upgrade pip\n"
     ]
    }
   ],
   "source": [
    "pip install -r requirements.txt\n"
   ]
  },
  {
   "cell_type": "code",
   "execution_count": 1,
   "id": "4e12e2e5",
   "metadata": {},
   "outputs": [],
   "source": [
    "import os\n",
    "import random\n",
    "import numpy as np\n",
    "import torch\n",
    "import torch.nn as nn\n",
    "import torch.optim as optim\n",
    "import torchvision.transforms as transforms\n",
    "from torch.utils.data import DataLoader, Dataset\n",
    "from torchvision.transforms.functional import to_tensor\n",
    "import matplotlib.pyplot as plt\n",
    "from tqdm import tqdm\n",
    "\n"
   ]
  },
  {
   "cell_type": "code",
   "execution_count": 2,
   "id": "d974d342",
   "metadata": {},
   "outputs": [
    {
     "name": "stderr",
     "output_type": "stream",
     "text": [
      "c:\\Users\\tasni\\miniconda3\\envs\\tf\\lib\\site-packages\\tqdm\\auto.py:21: TqdmWarning: IProgress not found. Please update jupyter and ipywidgets. See https://ipywidgets.readthedocs.io/en/stable/user_install.html\n",
      "  from .autonotebook import tqdm as notebook_tqdm\n",
      "c:\\Users\\tasni\\miniconda3\\envs\\tf\\lib\\site-packages\\timm\\models\\layers\\__init__.py:48: FutureWarning: Importing from timm.models.layers is deprecated, please import via timm.layers\n",
      "  warnings.warn(f\"Importing from {__name__} is deprecated, please import via timm.layers\", FutureWarning)\n"
     ]
    }
   ],
   "source": [
    "from networks.vision_transformer import SwinUnet\n"
   ]
  },
  {
   "cell_type": "code",
   "execution_count": 3,
   "id": "90b72f06",
   "metadata": {},
   "outputs": [
    {
     "data": {
      "text/plain": [
       "<torch._C.Generator at 0x1cf209ae670>"
      ]
     },
     "execution_count": 3,
     "metadata": {},
     "output_type": "execute_result"
    }
   ],
   "source": [
    "class Config:\n",
    "    # Path to dataset folders\n",
    "    image_dir = \"./Dataset/2D_Sliced_Images\"\n",
    "    mask_dir = \"./Dataset/2D_Sliced_Masks\"\n",
    "    \n",
    "    # Training settings\n",
    "    img_size = 224\n",
    "    num_classes = 3\n",
    "    base_lr = 0.01\n",
    "    batch_size = 4\n",
    "    max_epochs = 100\n",
    "    n_gpu = 1\n",
    "    num_workers = 4\n",
    "    eval_interval = 5\n",
    "    seed = 42\n",
    "\n",
    "    # Paths for checkpoints and pretrained model\n",
    "    snapshot_path = \"./swin_output\"\n",
    "    pretrained_ckpt = \"./pretrained_ckpt/swin_tiny_patch4_window7_224.pth\"\n",
    "\n",
    "# Initialize config\n",
    "args = Config()\n",
    "\n",
    "# Create output directory if it doesn't exist\n",
    "os.makedirs(args.snapshot_path, exist_ok=True)\n",
    "\n",
    "# Set random seed for reproducibility\n",
    "torch.manual_seed(args.seed)\n"
   ]
  },
  {
   "cell_type": "code",
   "execution_count": 4,
   "id": "9bc4deb0",
   "metadata": {},
   "outputs": [],
   "source": [
    "from PIL import Image\n",
    "\n",
    "class HepaticDataset(Dataset):\n",
    "    def __init__(self, image_dir, mask_dir, transform=None):\n",
    "        self.image_dir = image_dir\n",
    "        self.mask_dir = mask_dir\n",
    "        self.transform = transform\n",
    "        self.image_files = sorted(os.listdir(image_dir))\n",
    "\n",
    "    def __len__(self):\n",
    "        return len(self.image_files)\n",
    "\n",
    "    def __getitem__(self, idx):\n",
    "        img_path = os.path.join(self.image_dir, self.image_files[idx])\n",
    "        mask_path = os.path.join(self.mask_dir, self.image_files[idx])\n",
    "\n",
    "        image = Image.open(img_path).convert(\"L\")\n",
    "        mask = Image.open(mask_path)\n",
    "\n",
    "        if self.transform:\n",
    "            image = self.transform(image)\n",
    "            mask = self.transform(mask)\n",
    "\n",
    "        return {\n",
    "            'image': image.float(),\n",
    "            'label': mask.long().squeeze()\n",
    "        }\n"
   ]
  },
  {
   "cell_type": "code",
   "execution_count": 5,
   "id": "cab07f20",
   "metadata": {},
   "outputs": [
    {
     "ename": "AttributeError",
     "evalue": "'Config' object has no attribute 'root_path'",
     "output_type": "error",
     "traceback": [
      "\u001b[1;31m---------------------------------------------------------------------------\u001b[0m",
      "\u001b[1;31mAttributeError\u001b[0m                            Traceback (most recent call last)",
      "Cell \u001b[1;32mIn[5], line 7\u001b[0m\n\u001b[0;32m      1\u001b[0m train_transform \u001b[38;5;241m=\u001b[39m transforms\u001b[38;5;241m.\u001b[39mCompose([\n\u001b[0;32m      2\u001b[0m     transforms\u001b[38;5;241m.\u001b[39mResize((args\u001b[38;5;241m.\u001b[39mimg_size, args\u001b[38;5;241m.\u001b[39mimg_size)),\n\u001b[0;32m      3\u001b[0m     transforms\u001b[38;5;241m.\u001b[39mToTensor(),\n\u001b[0;32m      4\u001b[0m ])\n\u001b[0;32m      6\u001b[0m train_dataset \u001b[38;5;241m=\u001b[39m HepaticDataset(\n\u001b[1;32m----> 7\u001b[0m     image_dir\u001b[38;5;241m=\u001b[39mos\u001b[38;5;241m.\u001b[39mpath\u001b[38;5;241m.\u001b[39mjoin(\u001b[43margs\u001b[49m\u001b[38;5;241;43m.\u001b[39;49m\u001b[43mroot_path\u001b[49m, \u001b[38;5;124m'\u001b[39m\u001b[38;5;124m2D_Sliced_Images\u001b[39m\u001b[38;5;124m'\u001b[39m),\n\u001b[0;32m      8\u001b[0m     mask_dir\u001b[38;5;241m=\u001b[39mos\u001b[38;5;241m.\u001b[39mpath\u001b[38;5;241m.\u001b[39mjoin(args\u001b[38;5;241m.\u001b[39mroot_path, \u001b[38;5;124m'\u001b[39m\u001b[38;5;124m2D_Sliced_Masks\u001b[39m\u001b[38;5;124m'\u001b[39m),\n\u001b[0;32m      9\u001b[0m     transform\u001b[38;5;241m=\u001b[39mtrain_transform\n\u001b[0;32m     10\u001b[0m )\n\u001b[0;32m     12\u001b[0m train_loader \u001b[38;5;241m=\u001b[39m DataLoader(train_dataset, batch_size\u001b[38;5;241m=\u001b[39margs\u001b[38;5;241m.\u001b[39mbatch_size, shuffle\u001b[38;5;241m=\u001b[39m\u001b[38;5;28;01mTrue\u001b[39;00m, num_workers\u001b[38;5;241m=\u001b[39margs\u001b[38;5;241m.\u001b[39mnum_workers)\n",
      "\u001b[1;31mAttributeError\u001b[0m: 'Config' object has no attribute 'root_path'"
     ]
    }
   ],
   "source": [
    "train_transform = transforms.Compose([\n",
    "    transforms.Resize((args.img_size, args.img_size)),\n",
    "    transforms.ToTensor(),\n",
    "])\n",
    "\n",
    "train_dataset = HepaticDataset(\n",
    "    image_dir=os.path.join(args.root_path, '2D_Sliced_Images'),\n",
    "    mask_dir=os.path.join(args.root_path, '2D_Sliced_Masks'),\n",
    "    transform=train_transform\n",
    ")\n",
    "\n",
    "train_loader = DataLoader(train_dataset, batch_size=args.batch_size, shuffle=True, num_workers=args.num_workers)\n"
   ]
  },
  {
   "cell_type": "code",
   "execution_count": 8,
   "id": "8e84bee0",
   "metadata": {},
   "outputs": [],
   "source": [
    "class DiceLoss(nn.Module):\n",
    "    def __init__(self, num_classes):\n",
    "        super(DiceLoss, self).__init__()\n",
    "        self.num_classes = num_classes\n",
    "\n",
    "    def forward(self, input, target, smooth=1e-5, softmax=True):\n",
    "        if softmax:\n",
    "            input = torch.softmax(input, dim=1)\n",
    "\n",
    "        target_onehot = torch.eye(self.num_classes)[target].permute(0, 3, 1, 2).to(input.device)\n",
    "\n",
    "        dims = (0, 2, 3)\n",
    "        intersection = torch.sum(input * target_onehot, dims)\n",
    "        cardinality = torch.sum(input + target_onehot, dims)\n",
    "\n",
    "        dice = (2. * intersection + smooth) / (cardinality + smooth)\n",
    "        return 1. - dice.mean()\n"
   ]
  },
  {
   "cell_type": "code",
   "execution_count": 16,
   "id": "31e75234",
   "metadata": {},
   "outputs": [
    {
     "ename": "NameError",
     "evalue": "name 'config' is not defined",
     "output_type": "error",
     "traceback": [
      "\u001b[1;31m---------------------------------------------------------------------------\u001b[0m",
      "\u001b[1;31mNameError\u001b[0m                                 Traceback (most recent call last)",
      "Cell \u001b[1;32mIn[16], line 2\u001b[0m\n\u001b[0;32m      1\u001b[0m \u001b[38;5;66;03m# Step 1: Create the model (DO NOT pass pretrained here)\u001b[39;00m\n\u001b[1;32m----> 2\u001b[0m model \u001b[38;5;241m=\u001b[39m SwinUnet(config\u001b[38;5;241m=\u001b[39m\u001b[43mconfig\u001b[49m,\n\u001b[0;32m      3\u001b[0m                  img_size\u001b[38;5;241m=\u001b[39margs\u001b[38;5;241m.\u001b[39mimg_size,\n\u001b[0;32m      4\u001b[0m                  num_classes\u001b[38;5;241m=\u001b[39margs\u001b[38;5;241m.\u001b[39mnum_classes,\n\u001b[0;32m      5\u001b[0m                  zero_head\u001b[38;5;241m=\u001b[39m\u001b[38;5;28;01mTrue\u001b[39;00m)\n\u001b[0;32m      7\u001b[0m \u001b[38;5;66;03m# Step 2: Load pretrained weights\u001b[39;00m\n\u001b[0;32m      8\u001b[0m model\u001b[38;5;241m.\u001b[39mload_from(config)\n",
      "\u001b[1;31mNameError\u001b[0m: name 'config' is not defined"
     ]
    }
   ],
   "source": [
    "# Step 1: Create the model (DO NOT pass pretrained here)\n",
    "model = SwinUnet(config=config,\n",
    "                 img_size=args.img_size,\n",
    "                 num_classes=args.num_classes,\n",
    "                 zero_head=True)\n",
    "\n",
    "# Step 2: Load pretrained weights\n",
    "model.load_from(config)\n",
    "\n",
    "# Step 3: Wrap in DataParallel if needed\n",
    "if args.n_gpu > 1:\n",
    "    model = nn.DataParallel(model)\n",
    "\n",
    "# Step 4: Move to GPU\n",
    "model = model.cuda()\n"
   ]
  },
  {
   "cell_type": "code",
   "execution_count": 17,
   "id": "13616b6f",
   "metadata": {},
   "outputs": [
    {
     "name": "stdout",
     "output_type": "stream",
     "text": [
      "Collecting addict\n",
      "  Downloading addict-2.4.0-py3-none-any.whl.metadata (1.0 kB)\n",
      "Downloading addict-2.4.0-py3-none-any.whl (3.8 kB)\n",
      "Installing collected packages: addict\n",
      "Successfully installed addict-2.4.0\n",
      "Note: you may need to restart the kernel to use updated packages.\n"
     ]
    },
    {
     "name": "stderr",
     "output_type": "stream",
     "text": [
      "\n",
      "[notice] A new release of pip is available: 25.0.1 -> 25.1.1\n",
      "[notice] To update, run: python.exe -m pip install --upgrade pip\n"
     ]
    }
   ],
   "source": [
    "pip install addict\n"
   ]
  },
  {
   "cell_type": "code",
   "execution_count": 21,
   "id": "ed8495ac",
   "metadata": {},
   "outputs": [],
   "source": [
    "import yaml\n",
    "from addict import Dict\n",
    "\n",
    "# Load YAML file\n",
    "with open('configs/swin_tiny_patch4_window7_224_lite.yaml', 'r') as f:\n",
    "    config_dict = yaml.safe_load(f)\n",
    "\n",
    "# Convert to dot-accessible format\n",
    "config = Dict(config_dict)\n"
   ]
  },
  {
   "cell_type": "code",
   "execution_count": 23,
   "id": "57a92e2f",
   "metadata": {},
   "outputs": [
    {
     "name": "stdout",
     "output_type": "stream",
     "text": [
      "224\n"
     ]
    }
   ],
   "source": [
    "print(args.img_size)"
   ]
  },
  {
   "cell_type": "code",
   "execution_count": 28,
   "id": "cbf37d61",
   "metadata": {},
   "outputs": [],
   "source": [
    "def to_2tuple(x):\n",
    "    return x if isinstance(x, tuple) else (x, x)"
   ]
  },
  {
   "cell_type": "code",
   "execution_count": 30,
   "id": "3f2c526e",
   "metadata": {},
   "outputs": [],
   "source": [
    " tupImagesize=to_2tuple(args.img_size)"
   ]
  },
  {
   "cell_type": "code",
   "execution_count": 34,
   "id": "31f32275",
   "metadata": {},
   "outputs": [
    {
     "name": "stdout",
     "output_type": "stream",
     "text": [
      "SwinTransformerSys expand initial----depths:[2, 2, 2, 2];depths_decoder:[1, 2, 2, 2];drop_path_rate:0.2;num_classes:3\n"
     ]
    },
    {
     "ename": "IndexError",
     "evalue": "tuple index out of range",
     "output_type": "error",
     "traceback": [
      "\u001b[1;31m---------------------------------------------------------------------------\u001b[0m",
      "\u001b[1;31mIndexError\u001b[0m                                Traceback (most recent call last)",
      "Cell \u001b[1;32mIn[34], line 2\u001b[0m\n\u001b[0;32m      1\u001b[0m \u001b[38;5;66;03m# Initialize the model\u001b[39;00m\n\u001b[1;32m----> 2\u001b[0m model \u001b[38;5;241m=\u001b[39m \u001b[43mSwinUnet\u001b[49m\u001b[43m(\u001b[49m\u001b[43mconfig\u001b[49m\u001b[38;5;241;43m=\u001b[39;49m\u001b[43mconfig\u001b[49m\u001b[43m,\u001b[49m\n\u001b[0;32m      3\u001b[0m \u001b[43m                 \u001b[49m\u001b[43mimg_size\u001b[49m\u001b[38;5;241;43m=\u001b[39;49m\u001b[43mtupImagesize\u001b[49m\u001b[43m,\u001b[49m\n\u001b[0;32m      4\u001b[0m \u001b[43m                 \u001b[49m\u001b[43mnum_classes\u001b[49m\u001b[38;5;241;43m=\u001b[39;49m\u001b[43margs\u001b[49m\u001b[38;5;241;43m.\u001b[39;49m\u001b[43mnum_classes\u001b[49m\u001b[43m,\u001b[49m\n\u001b[0;32m      5\u001b[0m \u001b[43m                 \u001b[49m\u001b[43mzero_head\u001b[49m\u001b[38;5;241;43m=\u001b[39;49m\u001b[38;5;28;43;01mTrue\u001b[39;49;00m\u001b[43m)\u001b[49m\n\u001b[0;32m      7\u001b[0m \u001b[38;5;66;03m# Load pretrained checkpoint\u001b[39;00m\n\u001b[0;32m      8\u001b[0m \u001b[38;5;66;03m# model.load_from(config)\u001b[39;00m\n\u001b[0;32m      9\u001b[0m \n\u001b[0;32m     10\u001b[0m \u001b[38;5;66;03m# Use DataParallel if multiple GPUs\u001b[39;00m\n\u001b[0;32m     11\u001b[0m \u001b[38;5;28;01mif\u001b[39;00m args\u001b[38;5;241m.\u001b[39mn_gpu \u001b[38;5;241m>\u001b[39m \u001b[38;5;241m1\u001b[39m:\n",
      "File \u001b[1;32md:\\SwinUnet\\networks\\vision_transformer.py:30\u001b[0m, in \u001b[0;36mSwinUnet.__init__\u001b[1;34m(self, config, img_size, num_classes, zero_head, vis)\u001b[0m\n\u001b[0;32m     27\u001b[0m \u001b[38;5;28mself\u001b[39m\u001b[38;5;241m.\u001b[39mzero_head \u001b[38;5;241m=\u001b[39m zero_head\n\u001b[0;32m     28\u001b[0m \u001b[38;5;28mself\u001b[39m\u001b[38;5;241m.\u001b[39mconfig \u001b[38;5;241m=\u001b[39m config\n\u001b[1;32m---> 30\u001b[0m \u001b[38;5;28mself\u001b[39m\u001b[38;5;241m.\u001b[39mswin_unet \u001b[38;5;241m=\u001b[39m \u001b[43mSwinTransformerSys\u001b[49m\u001b[43m(\u001b[49m\u001b[43mimg_size\u001b[49m\u001b[38;5;241;43m=\u001b[39;49m\u001b[43mconfig\u001b[49m\u001b[38;5;241;43m.\u001b[39;49m\u001b[43mDATA\u001b[49m\u001b[38;5;241;43m.\u001b[39;49m\u001b[43mIMG_SIZE\u001b[49m\u001b[43m,\u001b[49m\n\u001b[0;32m     31\u001b[0m \u001b[43m                        \u001b[49m\u001b[43mpatch_size\u001b[49m\u001b[38;5;241;43m=\u001b[39;49m\u001b[43mconfig\u001b[49m\u001b[38;5;241;43m.\u001b[39;49m\u001b[43mMODEL\u001b[49m\u001b[38;5;241;43m.\u001b[39;49m\u001b[43mSWIN\u001b[49m\u001b[38;5;241;43m.\u001b[39;49m\u001b[43mPATCH_SIZE\u001b[49m\u001b[43m,\u001b[49m\n\u001b[0;32m     32\u001b[0m \u001b[43m                        \u001b[49m\u001b[43min_chans\u001b[49m\u001b[38;5;241;43m=\u001b[39;49m\u001b[43mconfig\u001b[49m\u001b[38;5;241;43m.\u001b[39;49m\u001b[43mMODEL\u001b[49m\u001b[38;5;241;43m.\u001b[39;49m\u001b[43mSWIN\u001b[49m\u001b[38;5;241;43m.\u001b[39;49m\u001b[43mIN_CHANS\u001b[49m\u001b[43m,\u001b[49m\n\u001b[0;32m     33\u001b[0m \u001b[43m                        \u001b[49m\u001b[43mnum_classes\u001b[49m\u001b[38;5;241;43m=\u001b[39;49m\u001b[38;5;28;43mself\u001b[39;49m\u001b[38;5;241;43m.\u001b[39;49m\u001b[43mnum_classes\u001b[49m\u001b[43m,\u001b[49m\n\u001b[0;32m     34\u001b[0m \u001b[43m                        \u001b[49m\u001b[43membed_dim\u001b[49m\u001b[38;5;241;43m=\u001b[39;49m\u001b[43mconfig\u001b[49m\u001b[38;5;241;43m.\u001b[39;49m\u001b[43mMODEL\u001b[49m\u001b[38;5;241;43m.\u001b[39;49m\u001b[43mSWIN\u001b[49m\u001b[38;5;241;43m.\u001b[39;49m\u001b[43mEMBED_DIM\u001b[49m\u001b[43m,\u001b[49m\n\u001b[0;32m     35\u001b[0m \u001b[43m                        \u001b[49m\u001b[43mdepths\u001b[49m\u001b[38;5;241;43m=\u001b[39;49m\u001b[43mconfig\u001b[49m\u001b[38;5;241;43m.\u001b[39;49m\u001b[43mMODEL\u001b[49m\u001b[38;5;241;43m.\u001b[39;49m\u001b[43mSWIN\u001b[49m\u001b[38;5;241;43m.\u001b[39;49m\u001b[43mDEPTHS\u001b[49m\u001b[43m,\u001b[49m\n\u001b[0;32m     36\u001b[0m \u001b[43m                        \u001b[49m\u001b[43mnum_heads\u001b[49m\u001b[38;5;241;43m=\u001b[39;49m\u001b[43mconfig\u001b[49m\u001b[38;5;241;43m.\u001b[39;49m\u001b[43mMODEL\u001b[49m\u001b[38;5;241;43m.\u001b[39;49m\u001b[43mSWIN\u001b[49m\u001b[38;5;241;43m.\u001b[39;49m\u001b[43mNUM_HEADS\u001b[49m\u001b[43m,\u001b[49m\n\u001b[0;32m     37\u001b[0m \u001b[43m                        \u001b[49m\u001b[43mwindow_size\u001b[49m\u001b[38;5;241;43m=\u001b[39;49m\u001b[43mconfig\u001b[49m\u001b[38;5;241;43m.\u001b[39;49m\u001b[43mMODEL\u001b[49m\u001b[38;5;241;43m.\u001b[39;49m\u001b[43mSWIN\u001b[49m\u001b[38;5;241;43m.\u001b[39;49m\u001b[43mWINDOW_SIZE\u001b[49m\u001b[43m,\u001b[49m\n\u001b[0;32m     38\u001b[0m \u001b[43m                        \u001b[49m\u001b[43mmlp_ratio\u001b[49m\u001b[38;5;241;43m=\u001b[39;49m\u001b[43mconfig\u001b[49m\u001b[38;5;241;43m.\u001b[39;49m\u001b[43mMODEL\u001b[49m\u001b[38;5;241;43m.\u001b[39;49m\u001b[43mSWIN\u001b[49m\u001b[38;5;241;43m.\u001b[39;49m\u001b[43mMLP_RATIO\u001b[49m\u001b[43m,\u001b[49m\n\u001b[0;32m     39\u001b[0m \u001b[43m                        \u001b[49m\u001b[43mqkv_bias\u001b[49m\u001b[38;5;241;43m=\u001b[39;49m\u001b[43mconfig\u001b[49m\u001b[38;5;241;43m.\u001b[39;49m\u001b[43mMODEL\u001b[49m\u001b[38;5;241;43m.\u001b[39;49m\u001b[43mSWIN\u001b[49m\u001b[38;5;241;43m.\u001b[39;49m\u001b[43mQKV_BIAS\u001b[49m\u001b[43m,\u001b[49m\n\u001b[0;32m     40\u001b[0m \u001b[43m                        \u001b[49m\u001b[43mqk_scale\u001b[49m\u001b[38;5;241;43m=\u001b[39;49m\u001b[43mconfig\u001b[49m\u001b[38;5;241;43m.\u001b[39;49m\u001b[43mMODEL\u001b[49m\u001b[38;5;241;43m.\u001b[39;49m\u001b[43mSWIN\u001b[49m\u001b[38;5;241;43m.\u001b[39;49m\u001b[43mQK_SCALE\u001b[49m\u001b[43m,\u001b[49m\n\u001b[0;32m     41\u001b[0m \u001b[43m                        \u001b[49m\u001b[43mdrop_rate\u001b[49m\u001b[38;5;241;43m=\u001b[39;49m\u001b[43mconfig\u001b[49m\u001b[38;5;241;43m.\u001b[39;49m\u001b[43mMODEL\u001b[49m\u001b[38;5;241;43m.\u001b[39;49m\u001b[43mDROP_RATE\u001b[49m\u001b[43m,\u001b[49m\n\u001b[0;32m     42\u001b[0m \u001b[43m                        \u001b[49m\u001b[43mdrop_path_rate\u001b[49m\u001b[38;5;241;43m=\u001b[39;49m\u001b[43mconfig\u001b[49m\u001b[38;5;241;43m.\u001b[39;49m\u001b[43mMODEL\u001b[49m\u001b[38;5;241;43m.\u001b[39;49m\u001b[43mDROP_PATH_RATE\u001b[49m\u001b[43m,\u001b[49m\n\u001b[0;32m     43\u001b[0m \u001b[43m                        \u001b[49m\u001b[43mape\u001b[49m\u001b[38;5;241;43m=\u001b[39;49m\u001b[43mconfig\u001b[49m\u001b[38;5;241;43m.\u001b[39;49m\u001b[43mMODEL\u001b[49m\u001b[38;5;241;43m.\u001b[39;49m\u001b[43mSWIN\u001b[49m\u001b[38;5;241;43m.\u001b[39;49m\u001b[43mAPE\u001b[49m\u001b[43m,\u001b[49m\n\u001b[0;32m     44\u001b[0m \u001b[43m                        \u001b[49m\u001b[43mpatch_norm\u001b[49m\u001b[38;5;241;43m=\u001b[39;49m\u001b[43mconfig\u001b[49m\u001b[38;5;241;43m.\u001b[39;49m\u001b[43mMODEL\u001b[49m\u001b[38;5;241;43m.\u001b[39;49m\u001b[43mSWIN\u001b[49m\u001b[38;5;241;43m.\u001b[39;49m\u001b[43mPATCH_NORM\u001b[49m\u001b[43m,\u001b[49m\n\u001b[0;32m     45\u001b[0m \u001b[43m                        \u001b[49m\u001b[43muse_checkpoint\u001b[49m\u001b[38;5;241;43m=\u001b[39;49m\u001b[43mconfig\u001b[49m\u001b[38;5;241;43m.\u001b[39;49m\u001b[43mTRAIN\u001b[49m\u001b[38;5;241;43m.\u001b[39;49m\u001b[43mUSE_CHECKPOINT\u001b[49m\u001b[43m)\u001b[49m\n",
      "File \u001b[1;32md:\\SwinUnet\\networks\\swin_transformer_unet_skip_expand_decoder_sys.py:632\u001b[0m, in \u001b[0;36mSwinTransformerSys.__init__\u001b[1;34m(self, img_size, patch_size, in_chans, num_classes, embed_dim, depths, depths_decoder, num_heads, window_size, mlp_ratio, qkv_bias, qk_scale, drop_rate, attn_drop_rate, drop_path_rate, norm_layer, ape, patch_norm, use_checkpoint, final_upsample, **kwargs)\u001b[0m\n\u001b[0;32m    629\u001b[0m \u001b[38;5;28mself\u001b[39m\u001b[38;5;241m.\u001b[39mfinal_upsample \u001b[38;5;241m=\u001b[39m final_upsample\n\u001b[0;32m    631\u001b[0m \u001b[38;5;66;03m# split image into non-overlapping patches\u001b[39;00m\n\u001b[1;32m--> 632\u001b[0m \u001b[38;5;28mself\u001b[39m\u001b[38;5;241m.\u001b[39mpatch_embed \u001b[38;5;241m=\u001b[39m \u001b[43mPatchEmbed\u001b[49m\u001b[43m(\u001b[49m\n\u001b[0;32m    633\u001b[0m \u001b[43m    \u001b[49m\u001b[43mimg_size\u001b[49m\u001b[38;5;241;43m=\u001b[39;49m\u001b[43mimg_size\u001b[49m\u001b[43m,\u001b[49m\u001b[43m \u001b[49m\u001b[43mpatch_size\u001b[49m\u001b[38;5;241;43m=\u001b[39;49m\u001b[43mpatch_size\u001b[49m\u001b[43m,\u001b[49m\u001b[43m \u001b[49m\u001b[43min_chans\u001b[49m\u001b[38;5;241;43m=\u001b[39;49m\u001b[43min_chans\u001b[49m\u001b[43m,\u001b[49m\u001b[43m \u001b[49m\u001b[43membed_dim\u001b[49m\u001b[38;5;241;43m=\u001b[39;49m\u001b[43membed_dim\u001b[49m\u001b[43m,\u001b[49m\n\u001b[0;32m    634\u001b[0m \u001b[43m    \u001b[49m\u001b[43mnorm_layer\u001b[49m\u001b[38;5;241;43m=\u001b[39;49m\u001b[43mnorm_layer\u001b[49m\u001b[43m \u001b[49m\u001b[38;5;28;43;01mif\u001b[39;49;00m\u001b[43m \u001b[49m\u001b[38;5;28;43mself\u001b[39;49m\u001b[38;5;241;43m.\u001b[39;49m\u001b[43mpatch_norm\u001b[49m\u001b[43m \u001b[49m\u001b[38;5;28;43;01melse\u001b[39;49;00m\u001b[43m \u001b[49m\u001b[38;5;28;43;01mNone\u001b[39;49;00m\u001b[43m)\u001b[49m\n\u001b[0;32m    635\u001b[0m num_patches \u001b[38;5;241m=\u001b[39m \u001b[38;5;28mself\u001b[39m\u001b[38;5;241m.\u001b[39mpatch_embed\u001b[38;5;241m.\u001b[39mnum_patches\n\u001b[0;32m    636\u001b[0m patches_resolution \u001b[38;5;241m=\u001b[39m \u001b[38;5;28mself\u001b[39m\u001b[38;5;241m.\u001b[39mpatch_embed\u001b[38;5;241m.\u001b[39mpatches_resolution\n",
      "File \u001b[1;32md:\\SwinUnet\\networks\\swin_transformer_unet_skip_expand_decoder_sys.py:549\u001b[0m, in \u001b[0;36mPatchEmbed.__init__\u001b[1;34m(self, img_size, patch_size, in_chans, embed_dim, norm_layer)\u001b[0m\n\u001b[0;32m    547\u001b[0m img_size \u001b[38;5;241m=\u001b[39m to_2tuple(img_size)\n\u001b[0;32m    548\u001b[0m patch_size \u001b[38;5;241m=\u001b[39m to_2tuple(patch_size)\n\u001b[1;32m--> 549\u001b[0m patches_resolution \u001b[38;5;241m=\u001b[39m [\u001b[43mimg_size\u001b[49m\u001b[43m[\u001b[49m\u001b[38;5;241;43m0\u001b[39;49m\u001b[43m]\u001b[49m \u001b[38;5;241m/\u001b[39m\u001b[38;5;241m/\u001b[39m patch_size[\u001b[38;5;241m0\u001b[39m], img_size[\u001b[38;5;241m1\u001b[39m] \u001b[38;5;241m/\u001b[39m\u001b[38;5;241m/\u001b[39m patch_size[\u001b[38;5;241m1\u001b[39m]]\n\u001b[0;32m    550\u001b[0m \u001b[38;5;28mself\u001b[39m\u001b[38;5;241m.\u001b[39mimg_size \u001b[38;5;241m=\u001b[39m img_size\n\u001b[0;32m    551\u001b[0m \u001b[38;5;28mself\u001b[39m\u001b[38;5;241m.\u001b[39mpatch_size \u001b[38;5;241m=\u001b[39m patch_size\n",
      "\u001b[1;31mIndexError\u001b[0m: tuple index out of range"
     ]
    }
   ],
   "source": [
    "# Initialize the model\n",
    "model = SwinUnet(config=config,\n",
    "                 img_size=tupImagesize,\n",
    "                 num_classes=args.num_classes,\n",
    "                 zero_head=True)\n",
    "\n",
    "# Load pretrained checkpoint\n",
    "# model.load_from(config)\n",
    "\n",
    "# Use DataParallel if multiple GPUs\n",
    "if args.n_gpu > 1:\n",
    "    model = nn.DataParallel(model)\n",
    "\n",
    "# Move to GPU\n",
    "model = model.cuda()\n"
   ]
  }
 ],
 "metadata": {
  "kernelspec": {
   "display_name": "tf",
   "language": "python",
   "name": "python3"
  },
  "language_info": {
   "codemirror_mode": {
    "name": "ipython",
    "version": 3
   },
   "file_extension": ".py",
   "mimetype": "text/x-python",
   "name": "python",
   "nbconvert_exporter": "python",
   "pygments_lexer": "ipython3",
   "version": "3.9.19"
  }
 },
 "nbformat": 4,
 "nbformat_minor": 5
}
